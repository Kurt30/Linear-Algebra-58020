{
  "nbformat": 4,
  "nbformat_minor": 0,
  "metadata": {
    "colab": {
      "name": "Prelim Exam.ipynb",
      "provenance": [],
      "authorship_tag": "ABX9TyMqS1/dDXVtWFWkftOKY9qP",
      "include_colab_link": true
    },
    "kernelspec": {
      "name": "python3",
      "display_name": "Python 3"
    },
    "language_info": {
      "name": "python"
    }
  },
  "cells": [
    {
      "cell_type": "markdown",
      "metadata": {
        "id": "view-in-github",
        "colab_type": "text"
      },
      "source": [
        "<a href=\"https://colab.research.google.com/github/Kurt30/Linear-Algebra-58020/blob/main/Prelim_Exam.ipynb\" target=\"_parent\"><img src=\"https://colab.research.google.com/assets/colab-badge.svg\" alt=\"Open In Colab\"/></a>"
      ]
    },
    {
      "cell_type": "markdown",
      "metadata": {
        "id": "NxotjY4ckpxT"
      },
      "source": [
        "Question 1. (20 points) Create a 4 x 4 matrix whose diagonal elements are all one (1's). Name it as matrix \"C\". Show your solutions using Python codes and do not forget to label them on the Text Cell."
      ]
    },
    {
      "cell_type": "code",
      "metadata": {
        "colab": {
          "base_uri": "https://localhost:8080/"
        },
        "id": "P8NlpNackigj",
        "outputId": "8ac5d908-c3b9-4133-bda0-b09f1fbb3841"
      },
      "source": [
        "#Matrix C\n",
        "\n",
        "import numpy as np\n",
        "f = np.eye(4)\n",
        "print(f)"
      ],
      "execution_count": 1,
      "outputs": [
        {
          "output_type": "stream",
          "name": "stdout",
          "text": [
            "[[1. 0. 0. 0.]\n",
            " [0. 1. 0. 0.]\n",
            " [0. 0. 1. 0.]\n",
            " [0. 0. 0. 1.]]\n"
          ]
        }
      ]
    },
    {
      "cell_type": "markdown",
      "metadata": {
        "id": "01jAEKGelNAc"
      },
      "source": [
        "Question 2. (20 points) In relation to Question 1, show a solution that doubles all the values of each element. Show your solutions using Python codes and do not forget to label them on the Text Cell."
      ]
    },
    {
      "cell_type": "code",
      "metadata": {
        "colab": {
          "base_uri": "https://localhost:8080/"
        },
        "id": "BqHeS2WDlMpY",
        "outputId": "da2d706d-af77-434b-d3ee-8d836e010323"
      },
      "source": [
        "import numpy as np\n",
        "f = np.eye(4) * 2\n",
        "print(f)"
      ],
      "execution_count": 2,
      "outputs": [
        {
          "output_type": "stream",
          "name": "stdout",
          "text": [
            "[[2. 0. 0. 0.]\n",
            " [0. 2. 0. 0.]\n",
            " [0. 0. 2. 0.]\n",
            " [0. 0. 0. 2.]]\n"
          ]
        }
      ]
    },
    {
      "cell_type": "markdown",
      "metadata": {
        "id": "tjMX0jnHlY5q"
      },
      "source": [
        "Question 3. (10 points) Find the cross-product of matrices, A = [2,7,4] and\n",
        "\n",
        "B = [3,9,8]. Show your solutions using Python codes and do not forget to label them on the Text Cell."
      ]
    },
    {
      "cell_type": "code",
      "metadata": {
        "colab": {
          "base_uri": "https://localhost:8080/"
        },
        "id": "ms8dZ7unlzHh",
        "outputId": "17b9e9c8-02b4-4080-eb9f-72a2207a6484"
      },
      "source": [
        "A = np.array([2,7,4])\n",
        "B = np.array([3,9,8])\n",
        "cross = np.cross(A,B)\n",
        "print(cross)"
      ],
      "execution_count": 3,
      "outputs": [
        {
          "output_type": "stream",
          "name": "stdout",
          "text": [
            "[20 -4 -3]\n"
          ]
        }
      ]
    }
  ]
}