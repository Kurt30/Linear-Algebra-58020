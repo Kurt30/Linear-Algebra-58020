{
  "nbformat": 4,
  "nbformat_minor": 0,
  "metadata": {
    "colab": {
      "name": "Untitled1.ipynb",
      "provenance": [],
      "authorship_tag": "ABX9TyPVcOoerJwlXsmlXyaUJPRM",
      "include_colab_link": true
    },
    "kernelspec": {
      "name": "python3",
      "display_name": "Python 3"
    },
    "language_info": {
      "name": "python"
    }
  },
  "cells": [
    {
      "cell_type": "markdown",
      "metadata": {
        "id": "view-in-github",
        "colab_type": "text"
      },
      "source": [
        "<a href=\"https://colab.research.google.com/github/Kurt30/Linear-Algebra-58020/blob/main/Practical%20Lab%20Exam%201.ipynb\" target=\"_parent\"><img src=\"https://colab.research.google.com/assets/colab-badge.svg\" alt=\"Open In Colab\"/></a>"
      ]
    },
    {
      "cell_type": "markdown",
      "metadata": {
        "id": "xZjYe2IUQltX"
      },
      "source": [
        "**PROBLEM 1**"
      ]
    },
    {
      "cell_type": "code",
      "metadata": {
        "colab": {
          "base_uri": "https://localhost:8080/"
        },
        "id": "9PKXCWKGF1nU",
        "outputId": "43d63b19-d404-428b-d46a-f0d36f9c65a2"
      },
      "source": [
        "#numpy\n",
        "import numpy as np\n",
        "W = np.array([[1,-3],[2,-2],[3,1]])\n",
        "print(W)\n",
        "print()\n",
        "X = np.array([[3,2,1],[-1,2,3],[2,-1,1]])\n",
        "print(X)\n",
        "print()\n",
        "Y = np.array([[1,2,0],[0,-1,2]])\n",
        "print(Y)\n",
        "print()\n",
        "Z = np.array([[0,1],[2,3]])\n",
        "print(Z)\n",
        "print()\n",
        "dot = np.dot(W,Y)\n",
        "print(dot)\n",
        "print()\n",
        "print(Z+Z)\n",
        "print()\n",
        "dot = np.dot(3,X)\n",
        "print(dot)\n",
        "print()"
      ],
      "execution_count": 6,
      "outputs": [
        {
          "output_type": "stream",
          "name": "stdout",
          "text": [
            "[[ 1 -3]\n",
            " [ 2 -2]\n",
            " [ 3  1]]\n",
            "\n",
            "[[ 3  2  1]\n",
            " [-1  2  3]\n",
            " [ 2 -1  1]]\n",
            "\n",
            "[[ 1  2  0]\n",
            " [ 0 -1  2]]\n",
            "\n",
            "[[0 1]\n",
            " [2 3]]\n",
            "\n",
            "[[ 1  5 -6]\n",
            " [ 2  6 -4]\n",
            " [ 3  5  2]]\n",
            "\n",
            "[[0 2]\n",
            " [4 6]]\n",
            "\n",
            "[[ 9  6  3]\n",
            " [-3  6  9]\n",
            " [ 6 -3  3]]\n",
            "\n"
          ]
        }
      ]
    },
    {
      "cell_type": "code",
      "metadata": {
        "id": "w3GstKdeQ6eT"
      },
      "source": [
        ""
      ],
      "execution_count": null,
      "outputs": []
    }
  ]
}