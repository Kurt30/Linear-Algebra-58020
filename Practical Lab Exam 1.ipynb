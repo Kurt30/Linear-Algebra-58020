{
  "nbformat": 4,
  "nbformat_minor": 0,
  "metadata": {
    "colab": {
      "name": "Untitled1.ipynb",
      "provenance": [],
      "authorship_tag": "ABX9TyOCN5BljeskSGEp8CRb/Wh7",
      "include_colab_link": true
    },
    "kernelspec": {
      "name": "python3",
      "display_name": "Python 3"
    },
    "language_info": {
      "name": "python"
    }
  },
  "cells": [
    {
      "cell_type": "markdown",
      "metadata": {
        "id": "view-in-github",
        "colab_type": "text"
      },
      "source": [
        "<a href=\"https://colab.research.google.com/github/Kurt30/Linear-Algebra-58020/blob/main/Practical%20Lab%20Exam%201.ipynb\" target=\"_parent\"><img src=\"https://colab.research.google.com/assets/colab-badge.svg\" alt=\"Open In Colab\"/></a>"
      ]
    },
    {
      "cell_type": "markdown",
      "metadata": {
        "id": "xZjYe2IUQltX"
      },
      "source": [
        "**PROBLEM 1**"
      ]
    },
    {
      "cell_type": "code",
      "metadata": {
        "colab": {
          "base_uri": "https://localhost:8080/"
        },
        "id": "9PKXCWKGF1nU",
        "outputId": "43d63b19-d404-428b-d46a-f0d36f9c65a2"
      },
      "source": [
        "#numpy\n",
        "import numpy as np\n",
        "W = np.array([[1,-3],[2,-2],[3,1]])\n",
        "print(W)\n",
        "print()\n",
        "X = np.array([[3,2,1],[-1,2,3],[2,-1,1]])\n",
        "print(X)\n",
        "print()\n",
        "Y = np.array([[1,2,0],[0,-1,2]])\n",
        "print(Y)\n",
        "print()\n",
        "Z = np.array([[0,1],[2,3]])\n",
        "print(Z)\n",
        "print()\n",
        "dot = np.dot(W,Y)\n",
        "print(dot)\n",
        "print()\n",
        "print(Z+Z)\n",
        "print()\n",
        "dot = np.dot(3,X)\n",
        "print(dot)\n",
        "print()"
      ],
      "execution_count": null,
      "outputs": [
        {
          "output_type": "stream",
          "name": "stdout",
          "text": [
            "[[ 1 -3]\n",
            " [ 2 -2]\n",
            " [ 3  1]]\n",
            "\n",
            "[[ 3  2  1]\n",
            " [-1  2  3]\n",
            " [ 2 -1  1]]\n",
            "\n",
            "[[ 1  2  0]\n",
            " [ 0 -1  2]]\n",
            "\n",
            "[[0 1]\n",
            " [2 3]]\n",
            "\n",
            "[[ 1  5 -6]\n",
            " [ 2  6 -4]\n",
            " [ 3  5  2]]\n",
            "\n",
            "[[0 2]\n",
            " [4 6]]\n",
            "\n",
            "[[ 9  6  3]\n",
            " [-3  6  9]\n",
            " [ 6 -3  3]]\n",
            "\n"
          ]
        }
      ]
    },
    {
      "cell_type": "markdown",
      "metadata": {
        "id": "JfcnVtosgJxX"
      },
      "source": [
        "**PROBLEM 2**"
      ]
    },
    {
      "cell_type": "code",
      "metadata": {
        "id": "D1RyGjyTf9zA",
        "outputId": "bfcf4d11-40dc-48a7-929c-8226e5a1e5f0",
        "colab": {
          "base_uri": "https://localhost:8080/"
        }
      },
      "source": [
        "W = [[1, -3],\n",
        "[2, -2],\n",
        "[3, 1]]\n",
        "\n",
        "X = [[3, 2, 1],\n",
        "[-1, 2, 3],\n",
        "[2, -1, 1]]\n",
        "\n",
        "Y = [[1, 2, 0],\n",
        "[0, -1, 2]]\n",
        "\n",
        "Z = [[0, 1],\n",
        "[2, 3]]\n",
        "\n",
        "YW = [[0, 0],\n",
        "[0, 0]]\n",
        "\n",
        "\n",
        "YWSQUARE = [[0, 0],\n",
        "[0, 0]]\n",
        "for i in range(len(Y)):\n",
        "    for j in range(len(W[0])):\n",
        "        for k in range(len(W)):\n",
        "            YW[i][j] += Y[i][k] * W[k][j]\n",
        "            print('(YW)^2 matrix:')\n",
        "for i in range(len(YW)):\n",
        "    for j in range(len(YW[0])):\n",
        "        for k in range(len(YW)):\n",
        "            YWSQUARE[i][j] += YW[i][k] * YW[k][j]\n",
        "\n",
        "for result in YWSQUARE:\n",
        "        print(result)\n",
        "\n",
        "WY = [[0, 0, 0],\n",
        "[0, 0, 0],\n",
        "[0, 0, 0]]\n",
        "\n",
        "\n",
        "for i in range(len(W)):\n",
        "    for j in range(len(Y[0])):\n",
        "        for k in range(len(Y)):\n",
        "             WY[i][j] += W[i][k] * Y[k][j]\n",
        "\n",
        "\n",
        "WY_MINUS_X = [[0, 0, 0],\n",
        "[0, 0, 0],\n",
        "[0, 0, 0]]\n",
        "\n",
        "\n",
        "for i in range(len(WY)):\n",
        "    for j in range(len(WY[0])):\n",
        "        WY_MINUS_X[i][j] = WY[i][j] - X[i][j]\n",
        "        print('\\nWY-X matrix:')\n",
        "\n",
        "for result in WY_MINUS_X:\n",
        "    print(result)\n",
        "\n",
        "ZWSQUARE = [[0, 0],\n",
        "[0, 0]]\n",
        "\n",
        "for i in range(len(Z)):\n",
        "    for j in range(len(Z[0])):\n",
        "        for k in range(len(Z)):\n",
        "            Z[i][j] += Z[i][k] * Z[k][j]\n",
        "\n",
        "\n",
        "YW_MINUS_ZSQUARE = [[0, 0],\n",
        "[0, 0]]\n",
        "\n",
        "for i in range(len(YW)):\n",
        "    for j in range(len(YW[0])):\n",
        "        YW_MINUS_ZSQUARE[i][j] += WY[i][j] - X[i][j]\n",
        "\n",
        "        print('\\nYW-Z^2 matrix:')\n",
        "for result in YW_MINUS_ZSQUARE:\n",
        "    print(result)"
      ],
      "execution_count": 1,
      "outputs": [
        {
          "output_type": "stream",
          "name": "stdout",
          "text": [
            "(YW)^2 matrix:\n",
            "(YW)^2 matrix:\n",
            "(YW)^2 matrix:\n",
            "(YW)^2 matrix:\n",
            "(YW)^2 matrix:\n",
            "(YW)^2 matrix:\n",
            "(YW)^2 matrix:\n",
            "(YW)^2 matrix:\n",
            "(YW)^2 matrix:\n",
            "(YW)^2 matrix:\n",
            "(YW)^2 matrix:\n",
            "(YW)^2 matrix:\n",
            "[-3, -63]\n",
            "[36, -12]\n",
            "\n",
            "WY-X matrix:\n",
            "\n",
            "WY-X matrix:\n",
            "\n",
            "WY-X matrix:\n",
            "\n",
            "WY-X matrix:\n",
            "\n",
            "WY-X matrix:\n",
            "\n",
            "WY-X matrix:\n",
            "\n",
            "WY-X matrix:\n",
            "\n",
            "WY-X matrix:\n",
            "\n",
            "WY-X matrix:\n",
            "[-2, 3, -7]\n",
            "[3, 4, -7]\n",
            "[1, 6, 1]\n",
            "\n",
            "YW-Z^2 matrix:\n",
            "\n",
            "YW-Z^2 matrix:\n",
            "\n",
            "YW-Z^2 matrix:\n",
            "\n",
            "YW-Z^2 matrix:\n",
            "[-2, 3]\n",
            "[3, 4]\n"
          ]
        }
      ]
    },
    {
      "cell_type": "markdown",
      "metadata": {
        "id": "IP8pUZjygOp_"
      },
      "source": [
        "**B IS THE CORRECT ANSWER**"
      ]
    },
    {
      "cell_type": "code",
      "metadata": {
        "id": "w3GstKdeQ6eT"
      },
      "source": [
        ""
      ],
      "execution_count": null,
      "outputs": []
    }
  ]
}