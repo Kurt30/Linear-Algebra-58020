{
  "nbformat": 4,
  "nbformat_minor": 0,
  "metadata": {
    "colab": {
      "name": "Midterm Exam.ipynb",
      "provenance": [],
      "authorship_tag": "ABX9TyOZUFLxpMvWk/wKouUL76Ld",
      "include_colab_link": true
    },
    "kernelspec": {
      "name": "python3",
      "display_name": "Python 3"
    },
    "language_info": {
      "name": "python"
    }
  },
  "cells": [
    {
      "cell_type": "markdown",
      "metadata": {
        "id": "view-in-github",
        "colab_type": "text"
      },
      "source": [
        "<a href=\"https://colab.research.google.com/github/Kurt30/Linear-Algebra-58020/blob/main/Midterm_Exam.ipynb\" target=\"_parent\"><img src=\"https://colab.research.google.com/assets/colab-badge.svg\" alt=\"Open In Colab\"/></a>"
      ]
    },
    {
      "cell_type": "markdown",
      "metadata": {
        "id": "SdbdJEoB-lPW"
      },
      "source": [
        "**Question 1. Create a Python code that displays a square matrix whose length is 5 (10 points)**"
      ]
    },
    {
      "cell_type": "code",
      "metadata": {
        "colab": {
          "base_uri": "https://localhost:8080/"
        },
        "id": "x_-x00pD_X0t",
        "outputId": "2e3ac36a-ff8a-4785-aa0d-52d5f0044f4f"
      },
      "source": [
        "import numpy as np\n",
        "SquareMatrix = np.array ([[1,2,3,4,5],[2,0,0,0,0],[3,0,0,0,0],[4,0,0,0,0],[5,0,0,0,0]])\n",
        "print(SquareMatrix)"
      ],
      "execution_count": 8,
      "outputs": [
        {
          "output_type": "stream",
          "name": "stdout",
          "text": [
            "[[1 2 3 4 5]\n",
            " [2 0 0 0 0]\n",
            " [3 0 0 0 0]\n",
            " [4 0 0 0 0]\n",
            " [5 0 0 0 0]]\n"
          ]
        }
      ]
    },
    {
      "cell_type": "markdown",
      "metadata": {
        "id": "HA3Bjkkh-oV5"
      },
      "source": [
        "**Question 2. Create a Python code that displays a square matrix whose elements below the principal diagonal are zero (10 points)**"
      ]
    },
    {
      "cell_type": "code",
      "metadata": {
        "colab": {
          "base_uri": "https://localhost:8080/"
        },
        "id": "Vc6Z4rQUClSJ",
        "outputId": "769934ba-5954-4bb2-9344-e73fb96973d0"
      },
      "source": [
        "import numpy as np\n",
        "C = np.triu([[3,0,1],[3,0,4],[3,0,3,]])\n",
        "print(C)"
      ],
      "execution_count": 12,
      "outputs": [
        {
          "output_type": "stream",
          "name": "stdout",
          "text": [
            "[[3 0 1]\n",
            " [0 0 4]\n",
            " [0 0 3]]\n"
          ]
        }
      ]
    },
    {
      "cell_type": "markdown",
      "metadata": {
        "id": "ROuRVQVG-rhX"
      },
      "source": [
        "**Question 3. Create a Python code that displays a square matrix which is symmetrical (10 points)**"
      ]
    },
    {
      "cell_type": "code",
      "metadata": {
        "colab": {
          "base_uri": "https://localhost:8080/"
        },
        "id": "T3PrtbRdHA4j",
        "outputId": "ce9e3075-c145-48c9-a4bc-2c3d911e0cea"
      },
      "source": [
        "G = np.array([[1,2,3,4,5],[2,1,2,3,4],[3,2,1,2,3],[4,3,2,1,2],[5,4,3,2,1]])\n",
        "print(G)"
      ],
      "execution_count": 14,
      "outputs": [
        {
          "output_type": "stream",
          "name": "stdout",
          "text": [
            "[[1 2 3 4 5]\n",
            " [2 1 2 3 4]\n",
            " [3 2 1 2 3]\n",
            " [4 3 2 1 2]\n",
            " [5 4 3 2 1]]\n"
          ]
        }
      ]
    },
    {
      "cell_type": "markdown",
      "metadata": {
        "id": "lKk6MS81-tyE"
      },
      "source": [
        "**Question 4. What is the inverse of matrix C? Show your solution by python coding. (20 points)**"
      ]
    },
    {
      "cell_type": "code",
      "metadata": {
        "colab": {
          "base_uri": "https://localhost:8080/"
        },
        "id": "gcb7nSrk-VS_",
        "outputId": "a941b79b-0040-48a8-b97b-b3a7cdfe7510"
      },
      "source": [
        "import numpy as np\n",
        "C = np.array ([[1,2,3],\n",
        "               [2,3,3],\n",
        "               [3,4,-2]])\n",
        "\n",
        "invC = np.linalg.inv(C)\n",
        "\n",
        "print(\"Inverse of Matrix C:\")\n",
        "print(invC)"
      ],
      "execution_count": 1,
      "outputs": [
        {
          "output_type": "stream",
          "name": "stdout",
          "text": [
            "Inverse of Matrix C:\n",
            "[[-3.6  3.2 -0.6]\n",
            " [ 2.6 -2.2  0.6]\n",
            " [-0.2  0.4 -0.2]]\n"
          ]
        }
      ]
    },
    {
      "cell_type": "markdown",
      "metadata": {
        "id": "24Oc5rWu-yHE"
      },
      "source": [
        "**Question 5. What is the determinant of the given matrix in Question 4? Show your solution by python coding. (20 points)**"
      ]
    },
    {
      "cell_type": "code",
      "metadata": {
        "colab": {
          "base_uri": "https://localhost:8080/"
        },
        "id": "LZs9iCVa_EWr",
        "outputId": "24d85690-7659-4f91-945b-94036afc28ea"
      },
      "source": [
        "C = np.array ([[1,2,3],\n",
        "               [2,3,3],\n",
        "               [3,4,-2]])\n",
        "\n",
        "detOfC = np.linalg.det(C)\n",
        "\n",
        "print(\"Determinant of the given matrix in Question 4:\")\n",
        "print(int(detOfC))"
      ],
      "execution_count": 3,
      "outputs": [
        {
          "output_type": "stream",
          "name": "stdout",
          "text": [
            "Determinant of the given matrix in Question 4:\n",
            "5\n"
          ]
        }
      ]
    },
    {
      "cell_type": "markdown",
      "metadata": {
        "id": "6RZim4hG-1p_"
      },
      "source": [
        "**Question 6. Find the roots of the linear equations by showing its python codes (30 points)**\n",
        "\n",
        "5X1 + 4X2 + X3 = 3.4\n",
        "\n",
        "10X1 + 9X2 + 4X3 = 8.8\n",
        "\n",
        "10X1 + 13X2 + 15X3 = 19.2"
      ]
    },
    {
      "cell_type": "code",
      "metadata": {
        "colab": {
          "base_uri": "https://localhost:8080/"
        },
        "id": "THlmpaRD_R22",
        "outputId": "8cd2c3b2-cc0d-418b-814b-3dec2e6c5d42"
      },
      "source": [
        "eq = np.array([[5,4,1],\n",
        "               [10,9,4],\n",
        "               [10,13,15]])\n",
        "\n",
        "const = np.array([[[3.4],\n",
        "                   [8.8],\n",
        "                   [19.2]]])\n",
        "\n",
        "roots = np.linalg.inv(eq) @ const\n",
        "\n",
        "print(\"Roots of the given linear equations:\")\n",
        "print(roots)"
      ],
      "execution_count": 4,
      "outputs": [
        {
          "output_type": "stream",
          "name": "stdout",
          "text": [
            "Roots of the given linear equations:\n",
            "[[[0.2]\n",
            "  [0.4]\n",
            "  [0.8]]]\n"
          ]
        }
      ]
    }
  ]
}